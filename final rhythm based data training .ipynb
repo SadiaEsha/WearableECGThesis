{
 "cells": [
  {
   "cell_type": "code",
   "execution_count": 3,
   "metadata": {
    "collapsed": true
   },
   "outputs": [],
   "source": [
    "import numpy as np\n",
    "import pandas as pd\n",
    "import matplotlib.pyplot as plt\n",
    "%matplotlib inline\n",
    "import glob"
   ]
  },
  {
   "cell_type": "code",
   "execution_count": 2,
   "metadata": {},
   "outputs": [
    {
     "name": "stdout",
     "output_type": "stream",
     "text": [
      "['105.csv', '106.csv', '107.csv', '113.csv', '114.csv', '115.csv', '119.csv', '121.csv', '124.csv', '200.csv', '201.csv', '202.csv', '203.csv', '205.csv', '207.csv', '208.csv', '209.csv', '210.csv', '213.csv', '214.csv', '215.csv', '217.csv', '219.csv', '220.csv', '221.csv', '222.csv', '223.csv', '228.csv', '230.csv', '231.csv', '232.csv', '233.csv', '234.csv', 'rhythm.csv']\n",
      "['/home/hp/Desktop/Thesis/Untitled Folder 1/a10/label/105label.csv', '/home/hp/Desktop/Thesis/Untitled Folder 1/a10/label/106label.csv', '/home/hp/Desktop/Thesis/Untitled Folder 1/a10/label/107label.csv', '/home/hp/Desktop/Thesis/Untitled Folder 1/a10/label/113label.csv', '/home/hp/Desktop/Thesis/Untitled Folder 1/a10/label/114label.csv', '/home/hp/Desktop/Thesis/Untitled Folder 1/a10/label/115label.csv', '/home/hp/Desktop/Thesis/Untitled Folder 1/a10/label/119label.csv', '/home/hp/Desktop/Thesis/Untitled Folder 1/a10/label/121label.csv', '/home/hp/Desktop/Thesis/Untitled Folder 1/a10/label/124label.csv', '/home/hp/Desktop/Thesis/Untitled Folder 1/a10/label/200label.csv', '/home/hp/Desktop/Thesis/Untitled Folder 1/a10/label/201label.csv', '/home/hp/Desktop/Thesis/Untitled Folder 1/a10/label/202label.csv', '/home/hp/Desktop/Thesis/Untitled Folder 1/a10/label/203label.csv', '/home/hp/Desktop/Thesis/Untitled Folder 1/a10/label/205label.csv', '/home/hp/Desktop/Thesis/Untitled Folder 1/a10/label/207label.csv', '/home/hp/Desktop/Thesis/Untitled Folder 1/a10/label/208label.csv', '/home/hp/Desktop/Thesis/Untitled Folder 1/a10/label/209label.csv', '/home/hp/Desktop/Thesis/Untitled Folder 1/a10/label/210label.csv', '/home/hp/Desktop/Thesis/Untitled Folder 1/a10/label/213label.csv', '/home/hp/Desktop/Thesis/Untitled Folder 1/a10/label/214label.csv', '/home/hp/Desktop/Thesis/Untitled Folder 1/a10/label/215label.csv', '/home/hp/Desktop/Thesis/Untitled Folder 1/a10/label/217label.csv', '/home/hp/Desktop/Thesis/Untitled Folder 1/a10/label/219label.csv', '/home/hp/Desktop/Thesis/Untitled Folder 1/a10/label/220label.csv', '/home/hp/Desktop/Thesis/Untitled Folder 1/a10/label/221label.csv', '/home/hp/Desktop/Thesis/Untitled Folder 1/a10/label/222label.csv', '/home/hp/Desktop/Thesis/Untitled Folder 1/a10/label/223label.csv', '/home/hp/Desktop/Thesis/Untitled Folder 1/a10/label/228label.csv', '/home/hp/Desktop/Thesis/Untitled Folder 1/a10/label/230label.csv', '/home/hp/Desktop/Thesis/Untitled Folder 1/a10/label/231label.csv', '/home/hp/Desktop/Thesis/Untitled Folder 1/a10/label/232label.csv', '/home/hp/Desktop/Thesis/Untitled Folder 1/a10/label/233label.csv', '/home/hp/Desktop/Thesis/Untitled Folder 1/a10/label/234label.csv']\n"
     ]
    }
   ],
   "source": [
    "path=\"/home/hp/Desktop/Thesis/Untitled Folder 1/a10/label/\"\n",
    "labeled_files=glob.glob((path+\"*label.csv\"))\n",
    "labeled_files=sorted(labeled_files)\n",
    "all_files=glob.glob(\"*.csv\")\n",
    "all_files=sorted(all_files)\n",
    "print(all_files)\n",
    "print(labeled_files)\n",
    "dfx=None\n"
   ]
  },
  {
   "cell_type": "code",
   "execution_count": 3,
   "metadata": {},
   "outputs": [
    {
     "data": {
      "text/plain": [
       "33"
      ]
     },
     "execution_count": 3,
     "metadata": {},
     "output_type": "execute_result"
    }
   ],
   "source": [
    "\n",
    "\n",
    "len(all_files)"
   ]
  },
  {
   "cell_type": "code",
   "execution_count": 4,
   "metadata": {
    "scrolled": true
   },
   "outputs": [
    {
     "name": "stdout",
     "output_type": "stream",
     "text": [
      "[0, 2690]\n",
      "[1, 203, 209, 217, 221, 795, 802, 839, 1033, 1039, 1047, 1058, 1064, 1134, 1142, 1251, 1273, 1297, 1303, 1325, 1331, 1343, 1402, 1432, 1455, 1458, 1468, 1471, 1479, 1485, 1505, 1669, 1736, 1748, 1817, 1971, 1986, 2041, 2064, 2070, 2076, 2097]\n",
      "[0, 2139]\n",
      "[0, 1795]\n",
      "[0, 666, 674, 1889]\n",
      "[0, 1961]\n",
      "[0, 24, 36, 42, 50, 67, 73, 97, 103, 152, 158, 201, 215, 220, 232, 245, 251, 276, 287, 325, 331, 340, 348, 351, 365, 382, 399, 430, 450, 507, 521, 542, 548, 657, 696, 770, 778, 869, 879, 885, 889, 902, 910, 1082, 1104, 1110, 1214, 1220, 1233, 1239, 1250, 1256, 1265, 1271, 1279, 1285, 1300, 1310, 1316, 1322, 1327, 1337, 1349, 1362, 1372, 1412, 1424, 1430, 1438, 1456, 1462, 1477, 1490, 1496, 1502, 1516, 1535, 1541, 1545, 1561, 1580, 1588, 1603, 1613, 1630, 1638, 1695, 1701, 1704, 1717, 1723, 1729, 1743, 1765, 1775, 1782, 1789, 1874, 1885, 1979, 1985, 1989, 1997, 2093]\n",
      "[0, 1875]\n",
      "[0, 239, 265, 286, 293, 558, 567, 924, 935, 940, 947, 1244, 1255, 1633]\n",
      "[0, 16, 60, 66, 69, 79, 82, 96, 114, 126, 130, 142, 154, 167, 171, 180, 183, 199, 202, 208, 274, 312, 325, 336, 340, 354, 485, 493, 502, 511, 555, 563, 622, 637, 644, 652, 676, 702, 717, 727, 734, 745, 755, 771, 787, 799, 802, 812, 821, 827, 880, 947, 953, 966, 990, 994, 1009, 1017, 1117, 1123, 1127, 1133, 1169, 1175, 1179, 1187, 1229, 1235, 1243, 1253, 1257, 1265, 1282, 1288, 1488, 1494, 1503, 1508, 1526, 1536, 1540, 1551, 1555, 1565, 1573, 1581, 1584, 1594, 1607, 1661, 1681, 1702, 1706, 1745, 1750, 1781, 1784, 1795, 1799, 1825, 1839, 1845, 1848, 2014, 2027, 2073, 2081, 2125, 2135, 2216, 2228, 2315, 2336, 2340, 2346, 2358, 2369, 2375, 2403, 2421, 2424, 2430, 2433, 2439, 2454, 2466, 2474, 2480, 2484, 2492, 2504, 2512, 2541, 2547, 2558, 2564, 2581, 2587, 2592, 2600, 2689, 2695, 2701, 2713, 2734, 2742, 2750, 2758, 2791]\n",
      "[0, 554, 557, 639, 702, 710, 743, 763, 792, 803, 822, 836, 841, 909, 976, 1065, 1126, 1137, 1157, 1180, 1185, 1214, 1219, 1227, 1233, 1243, 1310, 1321, 1431, 1496, 1711, 1715, 1726, 2023, 2028, 2038]\n",
      "[0, 1061, 1090, 1115, 1342, 1353, 1699, 1804, 2145]\n",
      "[0, 80, 84, 164, 168, 195, 199, 464, 468, 518, 523, 525, 535, 878, 882, 1115, 1120, 1162, 1170, 1239, 1243, 1300, 1305, 1335, 1340, 1385, 1389, 1913, 1917, 1995, 1999, 2037, 2041, 2047, 2052, 2134, 2138, 2608, 2613, 2785, 2793, 2843, 2847, 2937, 2942, 3107]\n",
      "[0, 452, 461, 464, 475, 1428, 1432, 2188, 2201, 2203, 2217, 2221, 2225, 2671]\n",
      "[0, 39, 43, 46, 76, 81, 99, 101, 105, 115, 121, 185, 295, 299, 313, 316, 358, 368, 406, 1812, 1824, 2166, 2272, 2280, 2384]\n",
      "[0, 115, 139, 175, 183, 236, 249, 265, 276, 297, 317, 369, 377, 492, 512, 557, 571, 679, 691, 1546, 1554, 1564, 1572, 1653, 1664, 1699, 1713, 1751, 1775, 1819, 1880, 1901, 1973, 2125, 2140, 2288, 2299, 2362, 2374, 2383, 2391, 2439, 2447, 2462, 2477, 2567, 2581, 2657, 2743, 2802, 2825, 3007, 3027, 3039]\n",
      "[0, 712, 732, 933, 1008, 1033, 1093, 1273, 1314, 1390, 1416, 1521, 1537, 2590, 2597, 2899, 2904, 2906, 2920, 2971, 2978, 3051]\n",
      "[0, 626, 633, 890, 902, 1522, 1528, 1536, 1542, 1622, 1629, 1637, 1643, 1656, 1672, 2467, 2473, 2684]\n",
      "[0, 276, 282, 492, 498, 590, 596, 858, 864, 878, 884, 894, 900, 912, 918, 1131, 1137, 1161, 1167, 1430, 1438, 1454, 1460, 1472, 1482, 1588, 1594, 1660, 1664, 1932, 1940, 1949, 1954, 1962, 1968, 1986, 1998, 2535, 2541, 2553, 2559, 2937, 2943, 3293]\n",
      "[0, 102, 118, 334, 345, 446, 450, 456, 464, 705, 716, 840, 854, 1078, 1082, 1414, 1422, 1597, 1605, 1621, 1629, 2001, 2009, 2283, 2291, 2296]\n",
      "[0, 339, 343, 2321, 2325, 3399]\n",
      "[0, 105, 113, 228, 232, 322, 329, 362, 368, 505, 514, 532, 536, 544, 549, 574, 580, 596, 600, 741, 747, 873, 879, 930, 938, 985, 1004, 1009, 1027, 1040, 1048, 1054, 1070, 1077, 1085, 1091, 1099, 1112, 1130, 1149, 1165, 1174, 1207, 1211, 1225, 1232, 1242, 1246, 1315, 1324, 1348, 1353, 1359, 1365, 1387, 1403, 1407, 1411, 1422, 1543, 1548, 1631, 1637, 1719, 1750, 1792, 1798, 2279]\n",
      "[0, 117, 131, 387, 415, 1064, 1086, 1140, 1158, 1175, 1205, 1208, 1347, 1362, 1435, 1477, 1564, 1570, 1717, 1790, 1797, 2311]\n",
      "[0, 483, 488, 491, 495, 499, 504, 507, 511, 524, 528, 764, 769, 773, 777, 1410, 1415, 2068]\n",
      "[0, 392, 400, 547, 555, 755, 764, 963, 971, 988, 996, 1022, 1030, 1071, 1077, 1107, 1111, 1185, 1189, 1362, 1373, 1430, 1438, 2461]\n",
      "[0, 672, 680, 687, 709, 714, 734, 774, 785, 793, 811, 820, 854, 873, 885, 891, 904, 910, 917, 921, 926, 931, 959, 962, 980, 993, 1006, 1016, 1021, 1049, 1060, 1067, 1086, 1090, 1096, 1102, 1112, 1117, 1120, 1146, 1149, 1154, 1165, 1168, 1180, 1190, 1209, 1214, 1232, 1254, 1261, 1278, 1281, 1293, 1299, 1319, 1336, 1340, 1367, 1370, 1374, 1420, 1430, 1433, 1447, 1468, 1491, 1507, 1585, 1677, 1691, 1707, 1717, 1721, 1733, 1748, 1763, 1776, 1792, 1798, 1803, 1813, 1818, 1844, 1850, 1856, 1862, 1867, 1871, 1879, 1889, 1901, 1913, 1926, 1930, 1939, 1942, 1948, 1958, 1970, 1975, 1990, 1997, 2000, 2022, 2026, 2035, 2039, 2046, 2054, 2064, 2074, 2078, 2082, 2091, 2103, 2108, 2123, 2144, 2149, 2180, 2202, 2208, 2232, 2249, 2256, 2260, 2265, 2278, 2294, 2323, 2329, 2379, 2386, 2392, 2398, 2633]\n",
      "[0, 163, 186, 808, 908, 1057, 1080, 1084, 1098, 1205, 1222, 1353, 1374, 1476, 1480, 1512, 1522, 1590, 1893, 2111, 2115, 2122, 2271, 2277, 2299, 2423, 2427, 2511, 2642]\n",
      "[0, 25, 47, 126, 155, 172, 178, 192, 198, 442, 544, 609, 651, 754, 763, 832, 840, 855, 881, 935, 975, 1233, 1239, 1527, 1533, 1547, 1554, 1573, 1579, 1664, 1728, 1899, 1905, 1911, 1923, 1987, 1993, 2009, 2021, 2112, 2118, 2140]\n",
      "[0, 7, 23, 39, 46, 54, 63, 154, 158, 177, 198, 200, 202, 208, 218, 220, 226, 240, 249, 251, 254, 265, 267, 302, 326, 333, 340, 342, 349, 354, 370, 387, 390, 394, 460, 462, 468, 470, 496, 501, 506, 513, 533, 539, 558, 561, 565, 568, 572, 574, 578, 582, 591, 596, 600, 617, 621, 623, 631, 633, 636, 638, 644, 647, 651, 654, 658, 660, 666, 670, 678, 680, 684, 689, 695, 698, 703, 724, 733, 736, 741, 743, 747, 758, 771, 775, 778, 791, 800, 805, 808, 820, 837, 840, 843, 855, 863, 870, 873, 875, 878, 892, 895, 898, 901, 904, 910, 912, 916, 939, 942, 944, 950, 952, 959, 966, 970, 1022, 1026, 1032, 1037, 1071, 1074, 1156, 1160, 1162, 1170, 1172, 1175, 1178, 1184, 1187, 1190, 1192, 1195, 1206, 1214, 1223, 1227, 1230, 1235, 1238, 1248, 1250, 1252, 1267, 1272, 1285, 1289, 1302, 1307, 1347, 1355, 1377, 1390, 1393, 1397, 1402, 1420, 1422, 1425, 1428, 1432, 1437, 1442, 1444, 1451, 1454, 1457, 1472, 1483, 1537, 1556, 1558, 1563, 1568, 1572, 1588, 1596, 1627, 1633, 1904, 1919, 1925, 1936, 1938, 1944, 1947, 1962, 1972, 1975, 1978, 2114, 2134, 2175, 2228, 2245, 2249, 2252, 2259, 2265, 2313, 2321, 2385, 2409, 2411, 2459, 2465]\n",
      "[0, 105, 170, 365, 641, 894, 1188, 1357, 1407, 1438, 1600, 2010]\n",
      "[0, 1815]\n",
      "[0, 48, 52, 139, 147, 222, 230, 238, 246, 253, 261, 264, 275, 283, 289, 297, 305, 388, 394, 544, 552, 562, 570, 1025, 1029, 1098, 1106, 1182, 1190, 1193, 1201, 1204, 1212, 1418, 1424, 1456, 1462, 1483, 1493, 1496, 1502, 1509, 1517, 1525, 1531, 1539, 1547, 1755, 1761, 1942, 1948, 2060, 2066, 2360, 2364, 2369, 2373, 2398, 2402, 2488, 2496, 2671, 2677, 2936, 2946, 3050, 3056, 3060, 3064, 3124, 3134, 3151]\n",
      "[0, 1302, 1353, 2763]\n"
     ]
    }
   ],
   "source": [
    "for i in range(len(all_files)):\n",
    "    \n",
    "    df=pd.read_csv(all_files[i])\n",
    "    df2=pd.read_csv(labeled_files[i])\n",
    "    ML2=df[\"'MLII'\"]\n",
    "    ML2=(ML2-ML2.mean())/ML2.std()   \n",
    "    NumAux=df2['NumAux']\n",
    "\n",
    "    Sample=df2['Sample']\n",
    "    Type=df2['Type']\n",
    "    beat = np.zeros(shape=(len(Sample),3200)) \n",
    "    \n",
    "    for n in range(1,len(Sample)-4):\n",
    "    \n",
    "        beat[n,1:len(ML2[Sample[n]:Sample[n+3]])+1]=(ML2[Sample[n]:Sample[n+3]])\n",
    "    \n",
    "\n",
    "    \n",
    "    \n",
    "   \n",
    "    \n",
    "    a=[]\n",
    "\n",
    "    for n in range(0,len(NumAux)):\n",
    "        if Type[n]==\"+\":\n",
    "            a.append(n)\n",
    "    a.append(len(NumAux)-1)\n",
    "    print(a)\n",
    "\n",
    "\n",
    "    for n in range(0,len(a)-1):\n",
    "\n",
    "\n",
    "        if NumAux[a[n]]==\"N\":\n",
    "            Num=0\n",
    "        elif NumAux[a[n]]==\"AB\":\n",
    "            Num=1;\n",
    "        elif NumAux[a[n]]==\"AFIB\":\n",
    "            Num=2;\n",
    "        elif NumAux[a[n]]==\"AFL\":\n",
    "            Num=3;\n",
    "        elif NumAux[a[n]]==\"B\":\n",
    "            Num=4;\n",
    "        elif NumAux[a[n]]==\"BII\":\n",
    "            Num=5;\n",
    "        elif NumAux[a[n]]==\"T\":\n",
    "             Num=6;\n",
    "        elif NumAux[a[n]]==\"VFL\":\n",
    "            Num=7;\n",
    "        elif NumAux[a[n]]==\"VT\":\n",
    "            Num=8;\n",
    "        elif NumAux[a[n]]==\"SVTA\":\n",
    "            Num=9;\n",
    "        elif NumAux[a[n]]==\"IVR\":\n",
    "            Num=10;\n",
    "        elif NumAux[a[n]]==\"P\":\n",
    "            Num=11;\n",
    "        elif NumAux[a[n]]==\"SBR\":\n",
    "            Num=12; \n",
    "        elif NumAux[a[n]]==\"NOD\":\n",
    "            Num=13;     \n",
    "\n",
    "\n",
    "\n",
    "        beat[a[n]:a[n+1],0]=Num\n",
    "\n",
    "    \n",
    "    if(dfx is None):\n",
    "        dfx = beat\n",
    "    else:\n",
    "        dfx = np.concatenate((dfx,beat))\n",
    "    \n"
   ]
  },
  {
   "cell_type": "code",
   "execution_count": 8,
   "metadata": {
    "collapsed": true
   },
   "outputs": [],
   "source": [
    "pd.DataFrame(dfx).to_csv(\"rhythm.csv\")"
   ]
  },
  {
   "cell_type": "code",
   "execution_count": 7,
   "metadata": {},
   "outputs": [
    {
     "data": {
      "text/plain": [
       "(79841, 3200)"
      ]
     },
     "execution_count": 7,
     "metadata": {},
     "output_type": "execute_result"
    }
   ],
   "source": [
    "dfx.shape"
   ]
  },
  {
   "cell_type": "code",
   "execution_count": 9,
   "metadata": {},
   "outputs": [
    {
     "data": {
      "text/plain": [
       "array([0., 0., 0., ..., 0., 0., 0.])"
      ]
     },
     "execution_count": 9,
     "metadata": {},
     "output_type": "execute_result"
    }
   ],
   "source": []
  },
  {
   "cell_type": "code",
   "execution_count": null,
   "metadata": {
    "collapsed": true
   },
   "outputs": [],
   "source": []
  },
  {
   "cell_type": "code",
   "execution_count": null,
   "metadata": {
    "collapsed": true
   },
   "outputs": [],
   "source": []
  },
  {
   "cell_type": "code",
   "execution_count": null,
   "metadata": {
    "collapsed": true
   },
   "outputs": [],
   "source": []
  },
  {
   "cell_type": "code",
   "execution_count": null,
   "metadata": {
    "collapsed": true
   },
   "outputs": [],
   "source": []
  },
  {
   "cell_type": "code",
   "execution_count": null,
   "metadata": {
    "collapsed": true
   },
   "outputs": [],
   "source": [
    "\n"
   ]
  },
  {
   "cell_type": "code",
   "execution_count": null,
   "metadata": {
    "collapsed": true
   },
   "outputs": [],
   "source": []
  },
  {
   "cell_type": "code",
   "execution_count": null,
   "metadata": {
    "collapsed": true
   },
   "outputs": [],
   "source": []
  },
  {
   "cell_type": "code",
   "execution_count": null,
   "metadata": {
    "collapsed": true
   },
   "outputs": [],
   "source": []
  },
  {
   "cell_type": "code",
   "execution_count": null,
   "metadata": {
    "collapsed": true
   },
   "outputs": [],
   "source": []
  },
  {
   "cell_type": "code",
   "execution_count": null,
   "metadata": {
    "collapsed": true
   },
   "outputs": [],
   "source": []
  },
  {
   "cell_type": "code",
   "execution_count": null,
   "metadata": {
    "collapsed": true
   },
   "outputs": [],
   "source": []
  },
  {
   "cell_type": "code",
   "execution_count": null,
   "metadata": {
    "collapsed": true
   },
   "outputs": [],
   "source": []
  },
  {
   "cell_type": "code",
   "execution_count": null,
   "metadata": {
    "collapsed": true
   },
   "outputs": [],
   "source": []
  },
  {
   "cell_type": "code",
   "execution_count": null,
   "metadata": {
    "collapsed": true
   },
   "outputs": [],
   "source": []
  },
  {
   "cell_type": "code",
   "execution_count": null,
   "metadata": {
    "collapsed": true
   },
   "outputs": [],
   "source": []
  },
  {
   "cell_type": "code",
   "execution_count": null,
   "metadata": {
    "collapsed": true
   },
   "outputs": [],
   "source": []
  },
  {
   "cell_type": "code",
   "execution_count": null,
   "metadata": {
    "collapsed": true
   },
   "outputs": [],
   "source": []
  },
  {
   "cell_type": "code",
   "execution_count": null,
   "metadata": {
    "collapsed": true
   },
   "outputs": [],
   "source": []
  },
  {
   "cell_type": "code",
   "execution_count": null,
   "metadata": {
    "collapsed": true
   },
   "outputs": [],
   "source": [
    "\n"
   ]
  },
  {
   "cell_type": "code",
   "execution_count": null,
   "metadata": {
    "collapsed": true
   },
   "outputs": [],
   "source": []
  }
 ],
 "metadata": {
  "kernelspec": {
   "display_name": "Python 3",
   "language": "python",
   "name": "python3"
  },
  "language_info": {
   "codemirror_mode": {
    "name": "ipython",
    "version": 3
   },
   "file_extension": ".py",
   "mimetype": "text/x-python",
   "name": "python",
   "nbconvert_exporter": "python",
   "pygments_lexer": "ipython3",
   "version": "3.7.7"
  }
 },
 "nbformat": 4,
 "nbformat_minor": 2
}
